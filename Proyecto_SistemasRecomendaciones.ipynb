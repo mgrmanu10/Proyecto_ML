{
 "cells": [
  {
   "cell_type": "markdown",
   "id": "57aef3e9",
   "metadata": {},
   "source": [
    "# ANÁLISIS DE DATOS - SISTEMA DE RECOMENDACIONES\n",
    "\n",
    "Proyecto de sistema de recomendaciones genérico a partir de recomendaciones de usuarios para películas producidas entre 1995 y 2015. \n",
    "\n",
    "Realizado por Rafael Delgado y Manuel García Romero.\n",
    "\n",
    "Asignatura de Machine Learning.\n",
    "Master en Ingeniería del Software: Cloud, Datos y Gestión IT."
   ]
  },
  {
   "cell_type": "markdown",
   "id": "048f252d",
   "metadata": {},
   "source": [
    "## Dataset movielens\n",
    "\n",
    "MovieLens es un sistema de recomendación basado en la web y una comunidad virtual que recomienda películas para que sus usuarios las vean, en función de sus preferencias cinematográficas mediante el filtrado colaborativo de las clasificaciones y críticas de películas de los miembros.\n",
    "\n",
    "El dataset seleccionado para configurar un sistema de recomendaciones específicamente recoge más de 100.000 filas (instancias) y 4 columnas (UserID, ItemID, Rating y TimeStamp) donde hay información de 943 usuarios y 1682 películas.\n",
    "\n",
    "Fuente: https://grouplens.org/datasets/movielens/100k/\n"
   ]
  },
  {
   "cell_type": "markdown",
   "id": "50d2d4e2",
   "metadata": {},
   "source": [
    "### Carga de datos"
   ]
  },
  {
   "cell_type": "code",
   "execution_count": 1,
   "id": "732b5b69",
   "metadata": {},
   "outputs": [],
   "source": [
    "import pandas as pd"
   ]
  },
  {
   "cell_type": "code",
   "execution_count": 2,
   "id": "bcee4b0c",
   "metadata": {},
   "outputs": [],
   "source": [
    "df= pd.read_csv(\"./u.data\", sep=\"\\t\", header=None)"
   ]
  },
  {
   "cell_type": "code",
   "execution_count": 3,
   "id": "69931a95",
   "metadata": {},
   "outputs": [
    {
     "data": {
      "text/plain": [
       "pandas.core.frame.DataFrame"
      ]
     },
     "execution_count": 3,
     "metadata": {},
     "output_type": "execute_result"
    }
   ],
   "source": [
    "type(df)"
   ]
  },
  {
   "cell_type": "code",
   "execution_count": 4,
   "id": "9480d9b9",
   "metadata": {},
   "outputs": [
    {
     "data": {
      "text/html": [
       "<div>\n",
       "<style scoped>\n",
       "    .dataframe tbody tr th:only-of-type {\n",
       "        vertical-align: middle;\n",
       "    }\n",
       "\n",
       "    .dataframe tbody tr th {\n",
       "        vertical-align: top;\n",
       "    }\n",
       "\n",
       "    .dataframe thead th {\n",
       "        text-align: right;\n",
       "    }\n",
       "</style>\n",
       "<table border=\"1\" class=\"dataframe\">\n",
       "  <thead>\n",
       "    <tr style=\"text-align: right;\">\n",
       "      <th></th>\n",
       "      <th>0</th>\n",
       "      <th>1</th>\n",
       "      <th>2</th>\n",
       "      <th>3</th>\n",
       "    </tr>\n",
       "  </thead>\n",
       "  <tbody>\n",
       "    <tr>\n",
       "      <th>0</th>\n",
       "      <td>196</td>\n",
       "      <td>242</td>\n",
       "      <td>3</td>\n",
       "      <td>881250949</td>\n",
       "    </tr>\n",
       "    <tr>\n",
       "      <th>1</th>\n",
       "      <td>186</td>\n",
       "      <td>302</td>\n",
       "      <td>3</td>\n",
       "      <td>891717742</td>\n",
       "    </tr>\n",
       "    <tr>\n",
       "      <th>2</th>\n",
       "      <td>22</td>\n",
       "      <td>377</td>\n",
       "      <td>1</td>\n",
       "      <td>878887116</td>\n",
       "    </tr>\n",
       "    <tr>\n",
       "      <th>3</th>\n",
       "      <td>244</td>\n",
       "      <td>51</td>\n",
       "      <td>2</td>\n",
       "      <td>880606923</td>\n",
       "    </tr>\n",
       "    <tr>\n",
       "      <th>4</th>\n",
       "      <td>166</td>\n",
       "      <td>346</td>\n",
       "      <td>1</td>\n",
       "      <td>886397596</td>\n",
       "    </tr>\n",
       "  </tbody>\n",
       "</table>\n",
       "</div>"
      ],
      "text/plain": [
       "     0    1  2          3\n",
       "0  196  242  3  881250949\n",
       "1  186  302  3  891717742\n",
       "2   22  377  1  878887116\n",
       "3  244   51  2  880606923\n",
       "4  166  346  1  886397596"
      ]
     },
     "execution_count": 4,
     "metadata": {},
     "output_type": "execute_result"
    }
   ],
   "source": [
    "df.head()"
   ]
  },
  {
   "cell_type": "code",
   "execution_count": 5,
   "id": "cc9d5b6f",
   "metadata": {},
   "outputs": [
    {
     "data": {
      "text/plain": [
       "(100000, 4)"
      ]
     },
     "execution_count": 5,
     "metadata": {},
     "output_type": "execute_result"
    }
   ],
   "source": [
    "#Nos indica las filas y columnas respectivamente que tiene el dataframe.\n",
    "df.shape \n"
   ]
  },
  {
   "cell_type": "code",
   "execution_count": 6,
   "id": "f8e4a31b",
   "metadata": {},
   "outputs": [
    {
     "data": {
      "text/html": [
       "<div>\n",
       "<style scoped>\n",
       "    .dataframe tbody tr th:only-of-type {\n",
       "        vertical-align: middle;\n",
       "    }\n",
       "\n",
       "    .dataframe tbody tr th {\n",
       "        vertical-align: top;\n",
       "    }\n",
       "\n",
       "    .dataframe thead th {\n",
       "        text-align: right;\n",
       "    }\n",
       "</style>\n",
       "<table border=\"1\" class=\"dataframe\">\n",
       "  <thead>\n",
       "    <tr style=\"text-align: right;\">\n",
       "      <th></th>\n",
       "      <th>UserID</th>\n",
       "      <th>ItemID</th>\n",
       "      <th>Rating</th>\n",
       "      <th>TimeStamp</th>\n",
       "    </tr>\n",
       "  </thead>\n",
       "  <tbody>\n",
       "    <tr>\n",
       "      <th>0</th>\n",
       "      <td>196</td>\n",
       "      <td>242</td>\n",
       "      <td>3</td>\n",
       "      <td>881250949</td>\n",
       "    </tr>\n",
       "    <tr>\n",
       "      <th>1</th>\n",
       "      <td>186</td>\n",
       "      <td>302</td>\n",
       "      <td>3</td>\n",
       "      <td>891717742</td>\n",
       "    </tr>\n",
       "    <tr>\n",
       "      <th>2</th>\n",
       "      <td>22</td>\n",
       "      <td>377</td>\n",
       "      <td>1</td>\n",
       "      <td>878887116</td>\n",
       "    </tr>\n",
       "    <tr>\n",
       "      <th>3</th>\n",
       "      <td>244</td>\n",
       "      <td>51</td>\n",
       "      <td>2</td>\n",
       "      <td>880606923</td>\n",
       "    </tr>\n",
       "    <tr>\n",
       "      <th>4</th>\n",
       "      <td>166</td>\n",
       "      <td>346</td>\n",
       "      <td>1</td>\n",
       "      <td>886397596</td>\n",
       "    </tr>\n",
       "  </tbody>\n",
       "</table>\n",
       "</div>"
      ],
      "text/plain": [
       "   UserID  ItemID  Rating  TimeStamp\n",
       "0     196     242       3  881250949\n",
       "1     186     302       3  891717742\n",
       "2      22     377       1  878887116\n",
       "3     244      51       2  880606923\n",
       "4     166     346       1  886397596"
      ]
     },
     "execution_count": 6,
     "metadata": {},
     "output_type": "execute_result"
    }
   ],
   "source": [
    "#TRANSFORMACIÓN DE LOS NOMBRE DE LAS COLUMNAS.\n",
    "#La columna 0 se refiere al ID de la película, la columna 1 al ID del usuario, la columna 2 al rating.\n",
    "#y la columna 3 al timestamp desde el epoch\n",
    "\n",
    "df.columns = [\"UserID\", \"ItemID\", \"Rating\",\"TimeStamp\"]\n",
    "df.head()"
   ]
  },
  {
   "cell_type": "markdown",
   "id": "8fdd205f",
   "metadata": {},
   "source": [
    "### Análisis exploratorio de los items\n"
   ]
  },
  {
   "cell_type": "code",
   "execution_count": 7,
   "id": "85713e66",
   "metadata": {},
   "outputs": [],
   "source": [
    "import matplotlib.pyplot as plt"
   ]
  },
  {
   "cell_type": "code",
   "execution_count": 8,
   "id": "bf10c61a",
   "metadata": {},
   "outputs": [
    {
     "data": {
      "text/plain": [
       "(array([ 6110.,     0., 11370.,     0.,     0., 27145.,     0., 34174.,\n",
       "            0., 21201.]),\n",
       " array([1. , 1.4, 1.8, 2.2, 2.6, 3. , 3.4, 3.8, 4.2, 4.6, 5. ]),\n",
       " <BarContainer object of 10 artists>)"
      ]
     },
     "execution_count": 8,
     "metadata": {},
     "output_type": "execute_result"
    },
    {
     "data": {
      "image/png": "[encoded data removed]",
      "text/plain": [
       "<Figure size 432x288 with 1 Axes>"
      ]
     },
     "metadata": {
      "needs_background": "light"
     },
     "output_type": "display_data"
    }
   ],
   "source": [
    "#Histograma para ver la distribución de los ratings que dejan los usuarios.\n",
    "plt.hist(df.Rating)"
   ]
  },
  {
   "cell_type": "code",
   "execution_count": 9,
   "id": "0749dd83",
   "metadata": {},
   "outputs": [
    {
     "data": {
      "text/plain": [
       "(array([11459.,  5724., 19359.,  9315.,  9396., 10083.,  6175.,  9603.,\n",
       "        10048.,  8838.]),\n",
       " array([8.74724710e+08, 8.76580903e+08, 8.78437096e+08, 8.80293288e+08,\n",
       "        8.82149481e+08, 8.84005674e+08, 8.85861867e+08, 8.87718060e+08,\n",
       "        8.89574252e+08, 8.91430445e+08, 8.93286638e+08]),\n",
       " <BarContainer object of 10 artists>)"
      ]
     },
     "execution_count": 9,
     "metadata": {},
     "output_type": "execute_result"
    },
    {
     "data": {
      "image/png": "[encoded data removed]",
      "text/plain": [
       "<Figure size 432x288 with 1 Axes>"
      ]
     },
     "metadata": {
      "needs_background": "light"
     },
     "output_type": "display_data"
    }
   ],
   "source": [
    "#Histograma para ver la distribución de las valoraciones a películas producidas \n",
    "#entre 1995 y 2015 (Timestamp en segundos desde el epoch).\n",
    "\n",
    "plt.hist(df.TimeStamp)\n",
    "\n",
    "#Hay valoraciones de las películas en todas las franjas de tiempo desde 1995 y 2015."
   ]
  },
  {
   "cell_type": "code",
   "execution_count": 10,
   "id": "3ab23e1a",
   "metadata": {},
   "outputs": [
    {
     "data": {
      "text/plain": [
       "Rating\n",
       "1     6110\n",
       "2    11370\n",
       "3    27145\n",
       "4    34174\n",
       "5    21201\n",
       "Name: UserID, dtype: int64"
      ]
     },
     "execution_count": 10,
     "metadata": {},
     "output_type": "execute_result"
    }
   ],
   "source": [
    "#Comprobar cuantas valoraciones hay para cada uno de los 5 Rating dados por los usuarios.\n",
    "df.groupby(['Rating'])[\"UserID\"].count()"
   ]
  },
  {
   "cell_type": "code",
   "execution_count": 11,
   "id": "0511c795",
   "metadata": {},
   "outputs": [
    {
     "data": {
      "text/plain": [
       "ItemID\n",
       "1       452\n",
       "2       131\n",
       "3        90\n",
       "4       209\n",
       "5        86\n",
       "       ... \n",
       "1678      1\n",
       "1679      1\n",
       "1680      1\n",
       "1681      1\n",
       "1682      1\n",
       "Name: ItemID, Length: 1682, dtype: int64"
      ]
     },
     "execution_count": 11,
     "metadata": {},
     "output_type": "execute_result"
    }
   ],
   "source": [
    "#Comprobar cuanta gente ha visto cada película (item)\n",
    "\n",
    "VisualizacionesPeliculas= df.groupby(['ItemID'])['ItemID'].count()\n",
    "VisualizacionesPeliculas\n",
    "\n",
    "\n"
   ]
  },
  {
   "cell_type": "code",
   "execution_count": 12,
   "id": "87e5d6a1",
   "metadata": {},
   "outputs": [
    {
     "data": {
      "text/plain": [
       "(array([1.146e+03, 2.490e+02, 1.390e+02, 6.700e+01, 3.800e+01, 2.400e+01,\n",
       "        7.000e+00, 5.000e+00, 6.000e+00, 1.000e+00]),\n",
       " array([  1. ,  59.2, 117.4, 175.6, 233.8, 292. , 350.2, 408.4, 466.6,\n",
       "        524.8, 583. ]),\n",
       " <BarContainer object of 10 artists>)"
      ]
     },
     "execution_count": 12,
     "metadata": {},
     "output_type": "execute_result"
    },
    {
     "data": {
      "image/png": "[encoded data removed]",
      "text/plain": [
       "<Figure size 432x288 with 1 Axes>"
      ]
     },
     "metadata": {
      "needs_background": "light"
     },
     "output_type": "display_data"
    }
   ],
   "source": [
    "#A continuación, en esta gráfica se concluye que habrá películas que han sido más vistas\n",
    "#y tendrán más presencia en el sistema de recomendaciones.\n",
    "\n",
    "plt.hist(VisualizacionesPeliculas)"
   ]
  },
  {
   "cell_type": "markdown",
   "id": "715b76f1",
   "metadata": {},
   "source": [
    "### Representación en forma matricial\n",
    "\n",
    "Para ofrecer un sistema de recomendaciones necesitamos tener una matriz de valoraciones para\n",
    "poder llevar a cabo la tarea de crear un sistema de recomendación dinámico.\n"
   ]
  },
  {
   "cell_type": "code",
   "execution_count": 19,
   "id": "f8544bea",
   "metadata": {},
   "outputs": [],
   "source": [
    "import numpy as np"
   ]
  },
  {
   "cell_type": "code",
   "execution_count": 20,
   "id": "66ee0b36",
   "metadata": {},
   "outputs": [
    {
     "data": {
      "text/plain": [
       "943"
      ]
     },
     "execution_count": 20,
     "metadata": {},
     "output_type": "execute_result"
    }
   ],
   "source": [
    "#Usuarios que han dejado una valoraciónabs\n",
    "n_users = df.UserID.unique().shape[0]\n",
    "n_users \n"
   ]
  },
  {
   "cell_type": "code",
   "execution_count": 21,
   "id": "b62c16b0",
   "metadata": {},
   "outputs": [
    {
     "data": {
      "text/plain": [
       "1682"
      ]
     },
     "execution_count": 21,
     "metadata": {},
     "output_type": "execute_result"
    }
   ],
   "source": [
    "#Películas que han sido valoradas\n",
    "n_items = df.ItemID.unique().shape[0]\n",
    "n_items"
   ]
  },
  {
   "cell_type": "code",
   "execution_count": 22,
   "id": "69c5459d",
   "metadata": {},
   "outputs": [],
   "source": [
    "#La matriz de valoraciones o ratings estará formada por filas de usuarios y columnas de películas.\n",
    "#Esta matriz será una matriz de ceros y es muy ineficiente, ya que habrá películas raras que no tenga\n",
    "#apenas valoraciones dadas por los usuarios (0)\n",
    "ratings = np.zeros((n_users, n_items))\n"
   ]
  },
  {
   "cell_type": "code",
   "execution_count": 24,
   "id": "1f4bbff0",
   "metadata": {},
   "outputs": [],
   "source": [
    "#Con este bucle, guardamos en la matriz las valoraciones de cada usuario para cada película.\n",
    "for row in df.itertuples():\n",
    "    ratings[row[1]-1,row[2]-1] = row[3]"
   ]
  },
  {
   "cell_type": "code",
   "execution_count": 25,
   "id": "b7f8e05d",
   "metadata": {},
   "outputs": [
    {
     "data": {
      "text/plain": [
       "numpy.ndarray"
      ]
     },
     "execution_count": 25,
     "metadata": {},
     "output_type": "execute_result"
    }
   ],
   "source": [
    "type(ratings)"
   ]
  },
  {
   "cell_type": "code",
   "execution_count": 26,
   "id": "bd5b448b",
   "metadata": {},
   "outputs": [
    {
     "data": {
      "text/plain": [
       "(943, 1682)"
      ]
     },
     "execution_count": 26,
     "metadata": {},
     "output_type": "execute_result"
    }
   ],
   "source": [
    "ratings.shape\n",
    "#943 filas de usuarios, 1682 columnas de películas"
   ]
  },
  {
   "cell_type": "code",
   "execution_count": 50,
   "id": "48654c15",
   "metadata": {},
   "outputs": [
    {
     "data": {
      "text/plain": [
       "array([[5., 3., 4., ..., 0., 0., 0.],\n",
       "       [4., 0., 0., ..., 0., 0., 0.],\n",
       "       [0., 0., 0., ..., 0., 0., 0.],\n",
       "       ...,\n",
       "       [5., 0., 0., ..., 0., 0., 0.],\n",
       "       [0., 0., 0., ..., 0., 0., 0.],\n",
       "       [0., 5., 0., ..., 0., 0., 0.]])"
      ]
     },
     "execution_count": 50,
     "metadata": {},
     "output_type": "execute_result"
    }
   ],
   "source": [
    "#Matriz de ratings\n",
    "ratings"
   ]
  },
  {
   "cell_type": "code",
   "execution_count": 48,
   "id": "8a4e43ae",
   "metadata": {},
   "outputs": [
    {
     "name": "stdout",
     "output_type": "stream",
     "text": [
      "Coeficiente de sparseidad: 6.30% . Esté porcentaje representa la parte del total de la matriz que no está vacía\n"
     ]
    }
   ],
   "source": [
    "sparsity = float(len(ratings.nonzero()[0]))\n",
    "sparsity /=  (ratings.shape[0]*ratings.shape[1])\n",
    "sparsity *= 100\n",
    "print(\"Coeficiente de sparseidad: {:4.2f}% . Esté porcentaje representa la parte del total de la matriz que no está vacía\"\n",
    "      .format(sparsity))\n"
   ]
  },
  {
   "cell_type": "markdown",
   "id": "1a137a49",
   "metadata": {},
   "source": [
    "### Crear conjuntos de entrenamiento y validación\n"
   ]
  },
  {
   "cell_type": "code",
   "execution_count": 55,
   "id": "c279b2ab",
   "metadata": {},
   "outputs": [],
   "source": [
    "from sklearn.model_selection import train_test_split"
   ]
  },
  {
   "cell_type": "code",
   "execution_count": 58,
   "id": "b71caad7",
   "metadata": {},
   "outputs": [],
   "source": [
    "#Conjunto de test de 30% y de entrenamiento del 70. random_state (semilla aleatoria) la fijamos en 42\n",
    "ratings_train, ratings_test = train_test_split(ratings, test_size=0.3, random_state=42)"
   ]
  },
  {
   "cell_type": "code",
   "execution_count": 59,
   "id": "b7b945f9",
   "metadata": {},
   "outputs": [
    {
     "data": {
      "text/plain": [
       "(660, 1682)"
      ]
     },
     "execution_count": 59,
     "metadata": {},
     "output_type": "execute_result"
    }
   ],
   "source": [
    "#660 de usuarios para el entrenamiento\n",
    "ratings_train.shape"
   ]
  },
  {
   "cell_type": "code",
   "execution_count": 60,
   "id": "a454bca8",
   "metadata": {},
   "outputs": [
    {
     "data": {
      "text/plain": [
       "(283, 1682)"
      ]
     },
     "execution_count": 60,
     "metadata": {},
     "output_type": "execute_result"
    }
   ],
   "source": [
    "ratings_test.shape"
   ]
  },
  {
   "cell_type": "code",
   "execution_count": null,
   "id": "28bd3142",
   "metadata": {},
   "outputs": [],
   "source": [
    "#283 usuarios de prueba, a los que se les ofrecerá una recomendación."
   ]
  },
  {
   "cell_type": "markdown",
   "id": "f9c44c9c",
   "metadata": {},
   "source": [
    "Se va a predecir o recomendar para un item dado (usuario). A este se le va a ofrecer otro item (película)\n",
    "si la sumada ponderada del resto de usuarios para dicho item (película) es similar a la que ha ofrecido el usuario.\n",
    "Es decir, si conocemos las películas que ha visto un usuario y las valoraciones que les ha dado sabremos de\n",
    "sus gustos y podremos buscar otras películas que otros usuarios hayan valorado positivamente siendo parecidos\n",
    "en los gustos de este usuario y habrá una película que se le recomiende.\n",
    "\n",
    "Para ello se utilizará la distancia coseno, para intentar encontrar los usuarios más parecidos y con esos usuarios parecidos se va a elaborar una suma ponderada para ver cúales de las películas que el usuario inicial todavía no ha visto, necesita que se le recomienden."
   ]
  },
  {
   "cell_type": "markdown",
   "id": "a229ddcb",
   "metadata": {},
   "source": [
    "## Filtrado colaborativo basado en Usuarios\n",
    "\n",
    "* Matriz de similaridad entre los usuarios (distancia del coseno).\n",
    "* Predecir la valoración desconocida de un item 'i' para un usuario activo 'u' basada en la suma ponderada de todas las valoraciones del resto de usuarios para dicho item.\n",
    "* Recomendación de nuevos items a los usuarios según lo establecido en los pasos anteriores."
   ]
  },
  {
   "cell_type": "code",
   "execution_count": 216,
   "id": "740a4f2c",
   "metadata": {},
   "outputs": [],
   "source": [
    "import numpy as np\n",
    "import sklearn"
   ]
  },
  {
   "cell_type": "code",
   "execution_count": 217,
   "id": "aaa4ab20",
   "metadata": {},
   "outputs": [],
   "source": [
    "#La distancia del coseno siempre da resultados entre 0 y 1\n",
    "#Un coseno igual a 0 significa que la distancia es nula (los usuarios son los más parecido posibles).\n",
    "#La similaridad es todo lo contrario: cuánto más cercano a 1 es cuando más parecido son los usuarios.\n",
    "\n",
    "#Habrá que hacer una transformación en la que los 0 de la función coseno se transformen en 1 \n",
    "#(los más parecidos acorde la similaridad);\n",
    "#mientras que los 1 (elementos más divergentes según la función coseno) se transforman a 0\n",
    "\n",
    "sim_matrix = 1 - sklearn.metrics.pairwise.cosine_distances(ratings_train)"
   ]
  },
  {
   "cell_type": "code",
   "execution_count": 218,
   "id": "07d50354",
   "metadata": {},
   "outputs": [
    {
     "data": {
      "text/plain": [
       "numpy.ndarray"
      ]
     },
     "execution_count": 218,
     "metadata": {},
     "output_type": "execute_result"
    }
   ],
   "source": [
    "type(sim_matrix)"
   ]
  },
  {
   "cell_type": "code",
   "execution_count": 219,
   "id": "ad19925a",
   "metadata": {},
   "outputs": [
    {
     "data": {
      "text/plain": [
       "(660, 660)"
      ]
     },
     "execution_count": 219,
     "metadata": {},
     "output_type": "execute_result"
    }
   ],
   "source": [
    "#660 usuarios de train contra sí mismos\n",
    "sim_matrix.shape"
   ]
  },
  {
   "cell_type": "code",
   "execution_count": 220,
   "id": "12ead605",
   "metadata": {},
   "outputs": [
    {
     "data": {
      "text/plain": [
       "array([[1.        , 0.17448349, 0.18009754, ..., 0.13331459, 0.17695593,\n",
       "        0.21882481],\n",
       "       [0.17448349, 1.        , 0.07993097, ..., 0.07175808, 0.09552622,\n",
       "        0.05512655],\n",
       "       [0.18009754, 0.07993097, 1.        , ..., 0.0191736 , 0.02233385,\n",
       "        0.10310785],\n",
       "       ...,\n",
       "       [0.13331459, 0.07175808, 0.0191736 , ..., 1.        , 0.04853428,\n",
       "        0.05142508],\n",
       "       [0.17695593, 0.09552622, 0.02233385, ..., 0.04853428, 1.        ,\n",
       "        0.1198022 ],\n",
       "       [0.21882481, 0.05512655, 0.10310785, ..., 0.05142508, 0.1198022 ,\n",
       "        1.        ]])"
      ]
     },
     "execution_count": 220,
     "metadata": {},
     "output_type": "execute_result"
    }
   ],
   "source": [
    "#La diagonal es 1 porque es un usuario contra sí mismo (1 de similaridad)\n",
    "#el que se encuentra al lado del primer usuario de todos (0.17448349) es un 17,44% de similar a dicho primer usuario)\n",
    "sim_matrix #Matriz de similaridad"
   ]
  },
  {
   "cell_type": "code",
   "execution_count": 221,
   "id": "c200723e",
   "metadata": {},
   "outputs": [],
   "source": [
    "#Prediccion de la valoración o rating que da cada usuario a cada película en función de todos los datos de la comunidad.\n",
    "users_predictions = sim_matrix.dot(ratings_train) / np.array([np.abs(sim_matrix).sum(axis=1)]).T"
   ]
  },
  {
   "cell_type": "code",
   "execution_count": 222,
   "id": "43688212",
   "metadata": {},
   "outputs": [
    {
     "data": {
      "text/plain": [
       "array([[2.10259747e+00, 5.86975978e-01, 3.40264192e-01, ...,\n",
       "        0.00000000e+00, 7.33611460e-03, 6.04379414e-03],\n",
       "       [1.40999723e+00, 2.91863934e-01, 2.68085289e-01, ...,\n",
       "        0.00000000e+00, 3.50378592e-03, 2.32963985e-03],\n",
       "       [1.69014833e+00, 3.13648440e-01, 3.26127887e-01, ...,\n",
       "        0.00000000e+00, 3.25391767e-03, 1.77210119e-03],\n",
       "       ...,\n",
       "       [1.73393747e+00, 4.06719333e-01, 3.21166908e-01, ...,\n",
       "        0.00000000e+00, 2.71269625e-03, 9.00511411e-03],\n",
       "       [2.34361031e+00, 8.10544770e-01, 4.73941025e-01, ...,\n",
       "        0.00000000e+00, 1.01130066e-02, 9.66427605e-03],\n",
       "       [2.36796969e+00, 5.98146138e-01, 3.85569804e-01, ...,\n",
       "        0.00000000e+00, 6.39996638e-03, 5.37442746e-03]])"
      ]
     },
     "execution_count": 222,
     "metadata": {},
     "output_type": "execute_result"
    }
   ],
   "source": [
    "users_predictions"
   ]
  },
  {
   "cell_type": "code",
   "execution_count": 225,
   "id": "a7a9b658",
   "metadata": {},
   "outputs": [],
   "source": [
    "#Error cuadrático\n",
    "from sklearn.metrics import mean_squared_error"
   ]
  },
  {
   "cell_type": "code",
   "execution_count": 233,
   "id": "1f635060",
   "metadata": {},
   "outputs": [],
   "source": [
    "def get_mse(preds,actuals):\n",
    "    #if preds.shape[0] != actuals.shape[0]:\n",
    "      #  actuals=actuals.T\n",
    "        preds = preds[actuals.nonzero()].flatten()\n",
    "        actuals = actuals[actuals.nonzero()].flatten()\n",
    "        return mean_squared_error(preds,actuals)"
   ]
  },
  {
   "cell_type": "code",
   "execution_count": 234,
   "id": "950c55f2",
   "metadata": {},
   "outputs": [
    {
     "data": {
      "text/plain": [
       "7.878218313143215"
      ]
     },
     "execution_count": 234,
     "metadata": {},
     "output_type": "execute_result"
    }
   ],
   "source": [
    "get_mse(users_predictions, ratings_train)"
   ]
  },
  {
   "cell_type": "code",
   "execution_count": 235,
   "id": "2c2d65ba",
   "metadata": {},
   "outputs": [
    {
     "data": {
      "text/plain": [
       "8.745164067978985"
      ]
     },
     "execution_count": 235,
     "metadata": {},
     "output_type": "execute_result"
    }
   ],
   "source": [
    "get_mse(users_predictions, ratings_test) \n",
    "#El error crece un poquito respecto al del entrenamiento, pero sigue siendo una buena opción \n",
    "#elegir este sistema como predicción"
   ]
  },
  {
   "cell_type": "markdown",
   "id": "419f9b91",
   "metadata": {},
   "source": [
    "## Filtrado colaborativo basado en los K-Nearest Neighbor (KNN) de los usuarios\n",
    "\n"
   ]
  },
  {
   "cell_type": "code",
   "execution_count": 165,
   "id": "214408b2",
   "metadata": {},
   "outputs": [],
   "source": [
    "from sklearn.neighbors import NearestNeighbors"
   ]
  },
  {
   "cell_type": "code",
   "execution_count": 173,
   "id": "463ad794",
   "metadata": {},
   "outputs": [],
   "source": [
    "#k vecinos (usuarios) más parecidos.\n",
    "k = 5 "
   ]
  },
  {
   "cell_type": "code",
   "execution_count": 174,
   "id": "89563d94",
   "metadata": {},
   "outputs": [
    {
     "name": "stderr",
     "output_type": "stream",
     "text": [
      "C:\\Users\\usuario\\anaconda3\\lib\\site-packages\\sklearn\\utils\\validation.py:70: FutureWarning: Pass n_neighbors=5, radius=cosine as keyword args. From version 1.0 (renaming of 0.25) passing these as positional arguments will result in an error\n",
      "  warnings.warn(f\"Pass {args_msg} as keyword args. From version \"\n"
     ]
    }
   ],
   "source": [
    "neighbors = NearestNeighbors(k,'cosine')"
   ]
  },
  {
   "cell_type": "code",
   "execution_count": 175,
   "id": "26bb8a1f",
   "metadata": {},
   "outputs": [
    {
     "data": {
      "text/plain": [
       "NearestNeighbors(radius='cosine')"
      ]
     },
     "execution_count": 175,
     "metadata": {},
     "output_type": "execute_result"
    }
   ],
   "source": [
    "neighbors.fit(ratings_train)"
   ]
  },
  {
   "cell_type": "code",
   "execution_count": 200,
   "id": "a487a071",
   "metadata": {},
   "outputs": [],
   "source": [
    "top_k_distances, top_k_users= neighbors.kneighbors(ratings_train, return_distance=True)"
   ]
  },
  {
   "cell_type": "code",
   "execution_count": 201,
   "id": "5d7a8e0e",
   "metadata": {},
   "outputs": [
    {
     "data": {
      "text/plain": [
       "(660, 5)"
      ]
     },
     "execution_count": 201,
     "metadata": {},
     "output_type": "execute_result"
    }
   ],
   "source": [
    "top_k_distances.shape"
   ]
  },
  {
   "cell_type": "code",
   "execution_count": 202,
   "id": "456feace",
   "metadata": {},
   "outputs": [
    {
     "data": {
      "text/plain": [
       "array([ 0.        , 41.71330723, 43.3474336 , 45.04442252, 45.04442252])"
      ]
     },
     "execution_count": 202,
     "metadata": {},
     "output_type": "execute_result"
    }
   ],
   "source": [
    "top_k_distances[0]"
   ]
  },
  {
   "cell_type": "code",
   "execution_count": 203,
   "id": "42142c1c",
   "metadata": {},
   "outputs": [
    {
     "data": {
      "text/plain": [
       "(660, 5)"
      ]
     },
     "execution_count": 203,
     "metadata": {},
     "output_type": "execute_result"
    }
   ],
   "source": [
    "top_k_users.shape"
   ]
  },
  {
   "cell_type": "code",
   "execution_count": 204,
   "id": "2a67ccf0",
   "metadata": {},
   "outputs": [
    {
     "data": {
      "text/plain": [
       "array([  0, 211,  16, 583, 428], dtype=int64)"
      ]
     },
     "execution_count": 204,
     "metadata": {},
     "output_type": "execute_result"
    }
   ],
   "source": [
    "top_k_users[0] #Los 5 usuarios más parecidos al usuario que ocupa la primera posición."
   ]
  },
  {
   "cell_type": "code",
   "execution_count": 205,
   "id": "a41769d8",
   "metadata": {},
   "outputs": [],
   "source": [
    "#Predicción de valoración que da cada usuario a cada película en función de los 5 usuarios que más se parecen a mí\n",
    "users_predicts_k=np.zeros(ratings_train.shape) #crea matriz de ceros\n",
    "for i in range(ratings_train.shape[0]):\n",
    "    users_predicts_k[i,:] = top_k_distances[i].T.dot(ratings_train[top_k_users][i])/np.array([np.abs(top_k_distances[i].T).sum(axis=0)]).T"
   ]
  },
  {
   "cell_type": "code",
   "execution_count": 206,
   "id": "55ec3287",
   "metadata": {},
   "outputs": [
    {
     "data": {
      "text/plain": [
       "(660, 1682)"
      ]
     },
     "execution_count": 206,
     "metadata": {},
     "output_type": "execute_result"
    }
   ],
   "source": [
    "users_predicts_k.shape #660 filas de usuarios para 1682 columnas de películas"
   ]
  },
  {
   "cell_type": "code",
   "execution_count": 207,
   "id": "e5f1c4a2",
   "metadata": {},
   "outputs": [
    {
     "data": {
      "text/plain": [
       "array([[0.        , 0.        , 0.        , ..., 0.        , 0.        ,\n",
       "        0.        ],\n",
       "       [0.        , 0.        , 0.        , ..., 0.        , 0.        ,\n",
       "        0.        ],\n",
       "       [0.        , 0.        , 0.        , ..., 0.        , 0.        ,\n",
       "        0.        ],\n",
       "       ...,\n",
       "       [0.        , 0.        , 0.        , ..., 0.        , 0.        ,\n",
       "        0.        ],\n",
       "       [0.74469557, 0.        , 0.        , ..., 0.        , 0.        ,\n",
       "        0.        ],\n",
       "       [1.9753676 , 0.        , 0.        , ..., 0.        , 0.        ,\n",
       "        0.        ]])"
      ]
     },
     "execution_count": 207,
     "metadata": {},
     "output_type": "execute_result"
    }
   ],
   "source": [
    "users_predicts_k #La mayoría de usuarios dan 0 como ratings para cada película."
   ]
  },
  {
   "cell_type": "code",
   "execution_count": 240,
   "id": "513513c5",
   "metadata": {},
   "outputs": [
    {
     "data": {
      "text/plain": [
       "8.182806324823378"
      ]
     },
     "execution_count": 240,
     "metadata": {},
     "output_type": "execute_result"
    }
   ],
   "source": [
    "get_mse(users_predicts_k, ratings_train)"
   ]
  },
  {
   "cell_type": "code",
   "execution_count": 241,
   "id": "cd2f0ee1",
   "metadata": {},
   "outputs": [
    {
     "data": {
      "text/plain": [
       "11.338299214622172"
      ]
     },
     "execution_count": 241,
     "metadata": {},
     "output_type": "execute_result"
    }
   ],
   "source": [
    "get_mse(users_predicts_k, ratings_test)"
   ]
  },
  {
   "cell_type": "markdown",
   "id": "9bfd998f",
   "metadata": {},
   "source": [
    "## Filtrado colaborativo basado en items (películas)"
   ]
  },
  {
   "cell_type": "code",
   "execution_count": 112,
   "id": "a09c8ba2",
   "metadata": {},
   "outputs": [
    {
     "data": {
      "text/plain": [
       "1682"
      ]
     },
     "execution_count": 112,
     "metadata": {},
     "output_type": "execute_result"
    }
   ],
   "source": [
    "n_movies = ratings_train.shape[1]\n",
    "n_movies"
   ]
  },
  {
   "cell_type": "code",
   "execution_count": 113,
   "id": "a1823375",
   "metadata": {},
   "outputs": [
    {
     "name": "stderr",
     "output_type": "stream",
     "text": [
      "C:\\Users\\usuario\\anaconda3\\lib\\site-packages\\sklearn\\utils\\validation.py:70: FutureWarning: Pass n_neighbors=1682, radius=cosine as keyword args. From version 1.0 (renaming of 0.25) passing these as positional arguments will result in an error\n",
      "  warnings.warn(f\"Pass {args_msg} as keyword args. From version \"\n"
     ]
    }
   ],
   "source": [
    "neighbors = NearestNeighbors(n_movies, 'cosine')"
   ]
  },
  {
   "cell_type": "code",
   "execution_count": 114,
   "id": "ecd20b9a",
   "metadata": {},
   "outputs": [
    {
     "data": {
      "text/plain": [
       "NearestNeighbors(n_neighbors=1682, radius='cosine')"
      ]
     },
     "execution_count": 114,
     "metadata": {},
     "output_type": "execute_result"
    }
   ],
   "source": [
    "#Se establecen comparaciones entre las películas (todas con todas) según las valoraciones obtenidas\n",
    "neighbors.fit(ratings_train.T) #Transpuesta para que queden en fila las películas"
   ]
  },
  {
   "cell_type": "code",
   "execution_count": 116,
   "id": "af8557ac",
   "metadata": {},
   "outputs": [],
   "source": [
    "top_k_distances, top_k_items = neighbors.kneighbors(ratings_train.T, return_distance=True)"
   ]
  },
  {
   "cell_type": "code",
   "execution_count": 117,
   "id": "4021578a",
   "metadata": {},
   "outputs": [
    {
     "data": {
      "text/plain": [
       "(1682, 1682)"
      ]
     },
     "execution_count": 117,
     "metadata": {},
     "output_type": "execute_result"
    }
   ],
   "source": [
    "top_k_distances.shape"
   ]
  },
  {
   "cell_type": "code",
   "execution_count": 118,
   "id": "5a19fc5e",
   "metadata": {},
   "outputs": [
    {
     "data": {
      "text/plain": [
       "array([[   0,  120,  404, ...,  285,  312,  301],\n",
       "       [   1,  575,  232, ...,  257,   99,   49],\n",
       "       [   2,  742, 1094, ...,  180,   99,   49],\n",
       "       ...,\n",
       "       [1565, 1571, 1570, ...,  180,   99,   49],\n",
       "       [1680, 1671, 1582, ...,  180,   99,   49],\n",
       "       [1681, 1596, 1592, ...,  180,   99,   49]], dtype=int64)"
      ]
     },
     "execution_count": 118,
     "metadata": {},
     "output_type": "execute_result"
    }
   ],
   "source": [
    "#Películas, de más cercana a más lejana, respecto a cada película que ocupa la primera posición en la fila.\n",
    "#Para la película 0, que es ToyStory, se recomiendo mucho la película 120 y 404 que en el dataset u.item se refieren a las \n",
    "#películas The Independence Day y Mission Impossible\n",
    "#De las películas menos recomendadas, que se encuentran en la 49 sería Star Wars.\n",
    "top_k_items "
   ]
  },
  {
   "cell_type": "code",
   "execution_count": 119,
   "id": "9a7f1e18",
   "metadata": {},
   "outputs": [
    {
     "data": {
      "text/plain": [
       "(1682, 1682)"
      ]
     },
     "execution_count": 119,
     "metadata": {},
     "output_type": "execute_result"
    }
   ],
   "source": [
    "top_k_items.shape"
   ]
  },
  {
   "cell_type": "code",
   "execution_count": 121,
   "id": "91cf2c23",
   "metadata": {},
   "outputs": [],
   "source": [
    "item_preds = ratings_train.dot(top_k_distances)/np.array([np.abs(top_k_distances).sum(axis=1)])"
   ]
  },
  {
   "cell_type": "code",
   "execution_count": 122,
   "id": "14874fa5",
   "metadata": {},
   "outputs": [
    {
     "data": {
      "text/plain": [
       "(660, 1682)"
      ]
     },
     "execution_count": 122,
     "metadata": {},
     "output_type": "execute_result"
    }
   ],
   "source": [
    "item_preds.shape"
   ]
  },
  {
   "cell_type": "code",
   "execution_count": 123,
   "id": "9092db96",
   "metadata": {},
   "outputs": [
    {
     "data": {
      "text/plain": [
       "array([[0.        , 0.31842643, 0.37009323, ..., 1.44850442, 1.4566397 ,\n",
       "        1.54530823],\n",
       "       [0.        , 0.0545379 , 0.06227954, ..., 0.20078701, 0.20112087,\n",
       "        0.21332472],\n",
       "       [0.        , 0.03522479, 0.04073126, ..., 0.18456903, 0.18654661,\n",
       "        0.20076303],\n",
       "       ...,\n",
       "       [0.        , 0.08968346, 0.10313623, ..., 0.42050197, 0.4196067 ,\n",
       "        0.45863507],\n",
       "       [0.        , 0.25835756, 0.29918119, ..., 1.31043371, 1.32278067,\n",
       "        1.41390683],\n",
       "       [0.        , 0.07174777, 0.08538024, ..., 0.25535196, 0.25259645,\n",
       "        0.26199652]])"
      ]
     },
     "execution_count": 123,
     "metadata": {},
     "output_type": "execute_result"
    }
   ],
   "source": [
    "item_preds #Distancia entre películas"
   ]
  },
  {
   "cell_type": "code",
   "execution_count": 124,
   "id": "82b52935",
   "metadata": {},
   "outputs": [
    {
     "data": {
      "text/plain": [
       "11.172565375125632"
      ]
     },
     "execution_count": 124,
     "metadata": {},
     "output_type": "execute_result"
    }
   ],
   "source": [
    "get_mse(item_preds,ratings_train)"
   ]
  },
  {
   "cell_type": "code",
   "execution_count": 126,
   "id": "37b818be",
   "metadata": {},
   "outputs": [
    {
     "data": {
      "text/plain": [
       "11.876775601508902"
      ]
     },
     "execution_count": 126,
     "metadata": {},
     "output_type": "execute_result"
    }
   ],
   "source": [
    "get_mse(item_preds,ratings_test)"
   ]
  },
  {
   "cell_type": "markdown",
   "id": "effc5188",
   "metadata": {},
   "source": [
    "## Filtrado colaborativo basado en KNN de los items (películas)"
   ]
  },
  {
   "cell_type": "code",
   "execution_count": 245,
   "id": "e4f9f2e1",
   "metadata": {},
   "outputs": [
    {
     "name": "stderr",
     "output_type": "stream",
     "text": [
      "C:\\Users\\usuario\\anaconda3\\lib\\site-packages\\sklearn\\utils\\validation.py:70: FutureWarning: Pass n_neighbors=30, radius=cosine as keyword args. From version 1.0 (renaming of 0.25) passing these as positional arguments will result in an error\n",
      "  warnings.warn(f\"Pass {args_msg} as keyword args. From version \"\n"
     ]
    }
   ],
   "source": [
    "k = 30\n",
    "neighbors = NearestNeighbors(k,'cosine')\n",
    "neighbors.fit(ratings_train.T)\n",
    "top_k_distances, top_k_items = neighbors.kneighbors(ratings_train.T,return_distance=True)"
   ]
  },
  {
   "cell_type": "code",
   "execution_count": 246,
   "id": "aae170c3",
   "metadata": {},
   "outputs": [
    {
     "data": {
      "text/plain": [
       "(1682, 30)"
      ]
     },
     "execution_count": 246,
     "metadata": {},
     "output_type": "execute_result"
    }
   ],
   "source": [
    "top_k_distances.shape\n",
    "#Top 30 de películas más cercanas para cada una de las 1682 películas."
   ]
  },
  {
   "cell_type": "code",
   "execution_count": 247,
   "id": "066d6b2b",
   "metadata": {},
   "outputs": [
    {
     "data": {
      "text/plain": [
       "array([  0, 120, 404, 116, 221, 150, 117, 180,   6, 741,  27,  94, 256,\n",
       "       236, 124,  81,  24, 587, 227, 110, 234,  78, 203, 545,  70,  14,\n",
       "        68, 596,  49, 143], dtype=int64)"
      ]
     },
     "execution_count": 247,
     "metadata": {},
     "output_type": "execute_result"
    }
   ],
   "source": [
    "top_k_items[0] #Top 30 de películas más cercanas a la película 0, que es ToyStory"
   ]
  },
  {
   "cell_type": "code",
   "execution_count": 248,
   "id": "f26d1c6d",
   "metadata": {},
   "outputs": [
    {
     "data": {
      "text/plain": [
       "array([ 0.        , 53.12249994, 54.38749856, 55.50675635, 56.49778757,\n",
       "       56.9473441 , 57.21013896, 57.81003373, 58.10335619, 58.16356248,\n",
       "       58.19793811, 58.37807808, 58.70264049, 58.83876273, 58.97457079,\n",
       "       59.52310476, 59.61543424, 59.84981203, 59.89156869, 59.94163828,\n",
       "       60.15812497, 60.35726965, 60.37383539, 60.63002556, 60.86049622,\n",
       "       61.11464636, 61.31883887, 61.37589103, 61.57109712, 61.80614856])"
      ]
     },
     "execution_count": 248,
     "metadata": {},
     "output_type": "execute_result"
    }
   ],
   "source": [
    "top_k_distances[0]"
   ]
  },
  {
   "cell_type": "code",
   "execution_count": 249,
   "id": "521a4ee1",
   "metadata": {},
   "outputs": [],
   "source": [
    "#Hacemos la predicción basandonos en el top_k de similaridades\n",
    "preds= np.zeros(ratings_train.T.shape)"
   ]
  },
  {
   "cell_type": "code",
   "execution_count": 141,
   "id": "f4b5b086",
   "metadata": {},
   "outputs": [
    {
     "name": "stdout",
     "output_type": "stream",
     "text": [
      "iter0\n",
      "iter50\n",
      "iter100\n",
      "iter150\n",
      "iter200\n",
      "iter250\n",
      "iter300\n",
      "iter350\n",
      "iter400\n",
      "iter450\n",
      "iter500\n",
      "iter550\n",
      "iter600\n",
      "iter650\n",
      "iter700\n",
      "iter750\n",
      "iter800\n",
      "iter850\n",
      "iter900\n",
      "iter950\n",
      "iter1000\n",
      "iter1050\n",
      "iter1100\n",
      "iter1150\n",
      "iter1200\n",
      "iter1250\n",
      "iter1300\n",
      "iter1350\n",
      "iter1400\n",
      "iter1450\n",
      "iter1500\n",
      "iter1550\n",
      "iter1600\n",
      "iter1650\n"
     ]
    }
   ],
   "source": [
    "for i in range(ratings_train.T.shape[0]):\n",
    "    if(i%50==0):\n",
    "        print(\"iter\"+str(i))\n",
    "    den = 1\n",
    "    if(np.abs(top_k_distances[i]).sum(axis=0)>0):\n",
    "        den= np.abs(top_k_distances[i]).sum(axis=0)\n",
    "    preds[i,:] = top_k_distances[i].dot(ratings_train.T[top_k_items][i])/np.array([den]).T"
   ]
  },
  {
   "cell_type": "code",
   "execution_count": 238,
   "id": "0375d35e",
   "metadata": {},
   "outputs": [
    {
     "data": {
      "text/plain": [
       "8.733998550319365"
      ]
     },
     "execution_count": 238,
     "metadata": {},
     "output_type": "execute_result"
    }
   ],
   "source": [
    "get_mse(preds,ratings_train.T)"
   ]
  },
  {
   "cell_type": "code",
   "execution_count": 239,
   "id": "4864e8c1",
   "metadata": {},
   "outputs": [
    {
     "data": {
      "text/plain": [
       "11.569795775277525"
      ]
     },
     "execution_count": 239,
     "metadata": {},
     "output_type": "execute_result"
    }
   ],
   "source": [
    "get_mse(preds,ratings_test.T)"
   ]
  }
 ],
 "metadata": {
  "kernelspec": {
   "display_name": "Python 3 (ipykernel)",
   "language": "python",
   "name": "python3"
  },
  "language_info": {
   "codemirror_mode": {
    "name": "ipython",
    "version": 3
   },
   "file_extension": ".py",
   "mimetype": "text/x-python",
   "name": "python",
   "nbconvert_exporter": "python",
   "pygments_lexer": "ipython3",
   "version": "3.9.7"
  }
 },
 "nbformat": 4,
 "nbformat_minor": 5
}
