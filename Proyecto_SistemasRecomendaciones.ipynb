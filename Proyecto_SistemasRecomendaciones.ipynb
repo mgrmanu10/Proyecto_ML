{
 "cells": [
  {
   "cell_type": "markdown",
   "id": "1e9e8028",
   "metadata": {},
   "source": [
    "# ANÁLISIS DE DATOS - SISTEMA DE RECOMENDACIONES\n",
    "\n",
    "Proyecto de sistema de recomendaciones genérico a partir de recomendaciones de usuarios para películas producidas entre 1995 y 2015. \n",
    "\n",
    "Realizado por Rafael Delgado y Manuel García Romero.\n",
    "\n",
    "Asignatura de Machine Learning.\n",
    "Master en Ingeniería del Software: Cloud, Datos y Gestión IT."
   ]
  },
  {
   "cell_type": "markdown",
   "id": "eb222c9f",
   "metadata": {},
   "source": [
    "## Dataset movielens\n",
    "\n",
    "MovieLens es un sistema de recomendación basado en la web y una comunidad virtual que recomienda películas para que sus usuarios las vean, en función de sus preferencias cinematográficas mediante el filtrado colaborativo de las clasificaciones y críticas de películas de los miembros.\n",
    "\n",
    "El dataset seleccionado para configurar un sistema de recomendaciones específicamente recoge más de 100.000 filas (instancias) y 4 columnas (UserID, ItemID, Rating y TimeStamp) donde hay información de 943 usuarios y 1682 películas.\n",
    "\n",
    "Fuente: https://grouplens.org/datasets/movielens/100k/\n"
   ]
  },
  {
   "cell_type": "markdown",
   "id": "90f88dac",
   "metadata": {},
   "source": [
    "### Carga de datos"
   ]
  },
  {
   "cell_type": "code",
   "execution_count": 1,
   "id": "c43f6ca7",
   "metadata": {},
   "outputs": [],
   "source": [
    "import pandas as pd"
   ]
  },
  {
   "cell_type": "code",
   "execution_count": 11,
   "id": "3a9db286",
   "metadata": {},
   "outputs": [],
   "source": [
    "df= pd.read_csv(\"./ml-100k/u.data\", sep=\"\\t\", header=None)"
   ]
  },
  {
   "cell_type": "code",
   "execution_count": 12,
   "id": "4738f27b",
   "metadata": {},
   "outputs": [
    {
     "data": {
      "text/plain": [
       "pandas.core.frame.DataFrame"
      ]
     },
     "execution_count": 12,
     "metadata": {},
     "output_type": "execute_result"
    }
   ],
   "source": [
    "type(df)"
   ]
  },
  {
   "cell_type": "code",
   "execution_count": 13,
   "id": "21bdfba7",
   "metadata": {},
   "outputs": [
    {
     "data": {
      "text/html": [
       "<div>\n",
       "<style scoped>\n",
       "    .dataframe tbody tr th:only-of-type {\n",
       "        vertical-align: middle;\n",
       "    }\n",
       "\n",
       "    .dataframe tbody tr th {\n",
       "        vertical-align: top;\n",
       "    }\n",
       "\n",
       "    .dataframe thead th {\n",
       "        text-align: right;\n",
       "    }\n",
       "</style>\n",
       "<table border=\"1\" class=\"dataframe\">\n",
       "  <thead>\n",
       "    <tr style=\"text-align: right;\">\n",
       "      <th></th>\n",
       "      <th>0</th>\n",
       "      <th>1</th>\n",
       "      <th>2</th>\n",
       "      <th>3</th>\n",
       "    </tr>\n",
       "  </thead>\n",
       "  <tbody>\n",
       "    <tr>\n",
       "      <th>0</th>\n",
       "      <td>196</td>\n",
       "      <td>242</td>\n",
       "      <td>3</td>\n",
       "      <td>881250949</td>\n",
       "    </tr>\n",
       "    <tr>\n",
       "      <th>1</th>\n",
       "      <td>186</td>\n",
       "      <td>302</td>\n",
       "      <td>3</td>\n",
       "      <td>891717742</td>\n",
       "    </tr>\n",
       "    <tr>\n",
       "      <th>2</th>\n",
       "      <td>22</td>\n",
       "      <td>377</td>\n",
       "      <td>1</td>\n",
       "      <td>878887116</td>\n",
       "    </tr>\n",
       "    <tr>\n",
       "      <th>3</th>\n",
       "      <td>244</td>\n",
       "      <td>51</td>\n",
       "      <td>2</td>\n",
       "      <td>880606923</td>\n",
       "    </tr>\n",
       "    <tr>\n",
       "      <th>4</th>\n",
       "      <td>166</td>\n",
       "      <td>346</td>\n",
       "      <td>1</td>\n",
       "      <td>886397596</td>\n",
       "    </tr>\n",
       "  </tbody>\n",
       "</table>\n",
       "</div>"
      ],
      "text/plain": [
       "     0    1  2          3\n",
       "0  196  242  3  881250949\n",
       "1  186  302  3  891717742\n",
       "2   22  377  1  878887116\n",
       "3  244   51  2  880606923\n",
       "4  166  346  1  886397596"
      ]
     },
     "execution_count": 13,
     "metadata": {},
     "output_type": "execute_result"
    }
   ],
   "source": [
    "df.head()"
   ]
  },
  {
   "cell_type": "code",
   "execution_count": 15,
   "id": "9637467a",
   "metadata": {},
   "outputs": [
    {
     "data": {
      "text/plain": [
       "(100000, 4)"
      ]
     },
     "execution_count": 15,
     "metadata": {},
     "output_type": "execute_result"
    }
   ],
   "source": [
    "#Nos indica las filas y columnas respectivamente que tiene el dataframe.\n",
    "df.shape \n"
   ]
  },
  {
   "cell_type": "code",
   "execution_count": 18,
   "id": "c999a8f9",
   "metadata": {},
   "outputs": [
    {
     "data": {
      "text/html": [
       "<div>\n",
       "<style scoped>\n",
       "    .dataframe tbody tr th:only-of-type {\n",
       "        vertical-align: middle;\n",
       "    }\n",
       "\n",
       "    .dataframe tbody tr th {\n",
       "        vertical-align: top;\n",
       "    }\n",
       "\n",
       "    .dataframe thead th {\n",
       "        text-align: right;\n",
       "    }\n",
       "</style>\n",
       "<table border=\"1\" class=\"dataframe\">\n",
       "  <thead>\n",
       "    <tr style=\"text-align: right;\">\n",
       "      <th></th>\n",
       "      <th>UserID</th>\n",
       "      <th>ItemID</th>\n",
       "      <th>Rating</th>\n",
       "      <th>TimeStamp</th>\n",
       "    </tr>\n",
       "  </thead>\n",
       "  <tbody>\n",
       "    <tr>\n",
       "      <th>0</th>\n",
       "      <td>196</td>\n",
       "      <td>242</td>\n",
       "      <td>3</td>\n",
       "      <td>881250949</td>\n",
       "    </tr>\n",
       "    <tr>\n",
       "      <th>1</th>\n",
       "      <td>186</td>\n",
       "      <td>302</td>\n",
       "      <td>3</td>\n",
       "      <td>891717742</td>\n",
       "    </tr>\n",
       "    <tr>\n",
       "      <th>2</th>\n",
       "      <td>22</td>\n",
       "      <td>377</td>\n",
       "      <td>1</td>\n",
       "      <td>878887116</td>\n",
       "    </tr>\n",
       "    <tr>\n",
       "      <th>3</th>\n",
       "      <td>244</td>\n",
       "      <td>51</td>\n",
       "      <td>2</td>\n",
       "      <td>880606923</td>\n",
       "    </tr>\n",
       "    <tr>\n",
       "      <th>4</th>\n",
       "      <td>166</td>\n",
       "      <td>346</td>\n",
       "      <td>1</td>\n",
       "      <td>886397596</td>\n",
       "    </tr>\n",
       "  </tbody>\n",
       "</table>\n",
       "</div>"
      ],
      "text/plain": [
       "   UserID  ItemID  Rating  TimeStamp\n",
       "0     196     242       3  881250949\n",
       "1     186     302       3  891717742\n",
       "2      22     377       1  878887116\n",
       "3     244      51       2  880606923\n",
       "4     166     346       1  886397596"
      ]
     },
     "execution_count": 18,
     "metadata": {},
     "output_type": "execute_result"
    }
   ],
   "source": [
    "#TRANSFORMACIÓN DE LOS NOMBRE DE LAS COLUMNAS.\n",
    "#La columna 0 se refiere al ID de la película, la columna 1 al ID del usuario, la columna 2 al rating.\n",
    "#y la columna 3 al timestamp desde el epoch\n",
    "\n",
    "df.columns = [\"UserID\", \"ItemID\", \"Rating\",\"TimeStamp\"]\n",
    "df.head()"
   ]
  },
  {
   "cell_type": "markdown",
   "id": "f6908ffb",
   "metadata": {},
   "source": [
    "### Análisis exploratorio de los items\n"
   ]
  },
  {
   "cell_type": "code",
   "execution_count": 19,
   "id": "53992ed7",
   "metadata": {},
   "outputs": [],
   "source": [
    "import matplotlib.pyplot as plt"
   ]
  },
  {
   "cell_type": "code",
   "execution_count": 20,
   "id": "05fd73f0",
   "metadata": {},
   "outputs": [
    {
     "data": {
      "text/plain": [
       "(array([ 6110.,     0., 11370.,     0.,     0., 27145.,     0., 34174.,\n",
       "            0., 21201.]),\n",
       " array([1. , 1.4, 1.8, 2.2, 2.6, 3. , 3.4, 3.8, 4.2, 4.6, 5. ]),\n",
       " <BarContainer object of 10 artists>)"
      ]
     },
     "execution_count": 20,
     "metadata": {},
     "output_type": "execute_result"
    },
    {
     "data": {
      "image/png": "[encoded data removed]",
      "text/plain": [
       "<Figure size 432x288 with 1 Axes>"
      ]
     },
     "metadata": {
      "needs_background": "light"
     },
     "output_type": "display_data"
    }
   ],
   "source": [
    "#Histograma para ver la distribución de los ratings que dejan los usuarios.\n",
    "plt.hist(df.Rating)"
   ]
  },
  {
   "cell_type": "code",
   "execution_count": 21,
   "id": "42880c7b",
   "metadata": {},
   "outputs": [
    {
     "data": {
      "text/plain": [
       "(array([11459.,  5724., 19359.,  9315.,  9396., 10083.,  6175.,  9603.,\n",
       "        10048.,  8838.]),\n",
       " array([8.74724710e+08, 8.76580903e+08, 8.78437096e+08, 8.80293288e+08,\n",
       "        8.82149481e+08, 8.84005674e+08, 8.85861867e+08, 8.87718060e+08,\n",
       "        8.89574252e+08, 8.91430445e+08, 8.93286638e+08]),\n",
       " <BarContainer object of 10 artists>)"
      ]
     },
     "execution_count": 21,
     "metadata": {},
     "output_type": "execute_result"
    },
    {
     "data": {
      "image/png": "[encoded data removed]",
      "text/plain": [
       "<Figure size 432x288 with 1 Axes>"
      ]
     },
     "metadata": {
      "needs_background": "light"
     },
     "output_type": "display_data"
    }
   ],
   "source": [
    "#Histograma para ver la distribución de las valoraciones a películas producidas \n",
    "#entre 1995 y 2015 (Timestamp en segundos desde el epoch).\n",
    "\n",
    "plt.hist(df.TimeStamp)\n",
    "\n",
    "#Hay valoraciones de las películas en todas las franjas de tiempo desde 1995 y 2015."
   ]
  },
  {
   "cell_type": "code",
   "execution_count": 25,
   "id": "c1cdc7c8",
   "metadata": {},
   "outputs": [
    {
     "data": {
      "text/plain": [
       "Rating\n",
       "1     6110\n",
       "2    11370\n",
       "3    27145\n",
       "4    34174\n",
       "5    21201\n",
       "Name: UserID, dtype: int64"
      ]
     },
     "execution_count": 25,
     "metadata": {},
     "output_type": "execute_result"
    }
   ],
   "source": [
    "#Comprobar cuantas valoraciones hay para cada uno de los 5 Rating dados por los usuarios.\n",
    "df.groupby(['Rating'])[\"UserID\"].count()"
   ]
  },
  {
   "cell_type": "code",
   "execution_count": 32,
   "id": "252c77a0",
   "metadata": {},
   "outputs": [
    {
     "data": {
      "text/plain": [
       "ItemID\n",
       "1       452\n",
       "2       131\n",
       "3        90\n",
       "4       209\n",
       "5        86\n",
       "       ... \n",
       "1678      1\n",
       "1679      1\n",
       "1680      1\n",
       "1681      1\n",
       "1682      1\n",
       "Name: ItemID, Length: 1682, dtype: int64"
      ]
     },
     "execution_count": 32,
     "metadata": {},
     "output_type": "execute_result"
    }
   ],
   "source": [
    "#Comprobar cuanta gente ha visto cada película (item)\n",
    "\n",
    "VisualizacionesPeliculas= df.groupby(['ItemID'])['ItemID'].count()\n",
    "VisualizacionesPeliculas\n",
    "\n",
    "\n"
   ]
  },
  {
   "cell_type": "code",
   "execution_count": 33,
   "id": "e016de78",
   "metadata": {},
   "outputs": [
    {
     "data": {
      "text/plain": [
       "(array([1.146e+03, 2.490e+02, 1.390e+02, 6.700e+01, 3.800e+01, 2.400e+01,\n",
       "        7.000e+00, 5.000e+00, 6.000e+00, 1.000e+00]),\n",
       " array([  1. ,  59.2, 117.4, 175.6, 233.8, 292. , 350.2, 408.4, 466.6,\n",
       "        524.8, 583. ]),\n",
       " <BarContainer object of 10 artists>)"
      ]
     },
     "execution_count": 33,
     "metadata": {},
     "output_type": "execute_result"
    },
    {
     "data": {
      "image/png": "[encoded data removed]",
      "text/plain": [
       "<Figure size 432x288 with 1 Axes>"
      ]
     },
     "metadata": {
      "needs_background": "light"
     },
     "output_type": "display_data"
    }
   ],
   "source": [
    "#A continuación, en esta gráfica se concluye que habrá películas que han sido más vistas\n",
    "#y tendrán más presencia en el sistema de recomendaciones\n",
    "\n",
    "plt.hist(VisualizacionesPeliculas)"
   ]
  }
 ],
 "metadata": {
  "kernelspec": {
   "display_name": "Python 3 (ipykernel)",
   "language": "python",
   "name": "python3"
  },
  "language_info": {
   "codemirror_mode": {
    "name": "ipython",
    "version": 3
   },
   "file_extension": ".py",
   "mimetype": "text/x-python",
   "name": "python",
   "nbconvert_exporter": "python",
   "pygments_lexer": "ipython3",
   "version": "3.9.7"
  }
 },
 "nbformat": 4,
 "nbformat_minor": 5
}
